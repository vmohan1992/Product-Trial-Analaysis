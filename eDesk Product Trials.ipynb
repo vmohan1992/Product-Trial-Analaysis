{
 "cells": [
  {
   "cell_type": "code",
   "execution_count": 177,
   "metadata": {},
   "outputs": [],
   "source": [
    "# Import the libraries\n",
    "import pandas as pd\n",
    "import os"
   ]
  },
  {
   "cell_type": "code",
   "execution_count": 178,
   "metadata": {},
   "outputs": [
    {
     "name": "stdout",
     "output_type": "stream",
     "text": [
      "C:\\Users\\vpachiriyan\\Documents\\Python\n"
     ]
    }
   ],
   "source": [
    "# Get the current working directory and change if needed\n",
    "path=os.getcwd()\n",
    "os.chdir(\"C:\\\\Users\\\\vpachiriyan\\\\Documents\\\\Python\")\n",
    "print(path)"
   ]
  },
  {
   "cell_type": "code",
   "execution_count": 179,
   "metadata": {},
   "outputs": [
    {
     "data": {
      "text/html": [
       "<div>\n",
       "<style scoped>\n",
       "    .dataframe tbody tr th:only-of-type {\n",
       "        vertical-align: middle;\n",
       "    }\n",
       "\n",
       "    .dataframe tbody tr th {\n",
       "        vertical-align: top;\n",
       "    }\n",
       "\n",
       "    .dataframe thead th {\n",
       "        text-align: right;\n",
       "    }\n",
       "</style>\n",
       "<table border=\"1\" class=\"dataframe\">\n",
       "  <thead>\n",
       "    <tr style=\"text-align: right;\">\n",
       "      <th></th>\n",
       "      <th>client_id</th>\n",
       "      <th>product_id</th>\n",
       "      <th>country</th>\n",
       "      <th>trial_start_datetime</th>\n",
       "      <th>channels</th>\n",
       "      <th>setup</th>\n",
       "      <th>sale</th>\n",
       "      <th>click_source</th>\n",
       "      <th>source_paid_or_non_paid</th>\n",
       "    </tr>\n",
       "  </thead>\n",
       "  <tbody>\n",
       "    <tr>\n",
       "      <th>0</th>\n",
       "      <td>48043</td>\n",
       "      <td>1</td>\n",
       "      <td>Spain</td>\n",
       "      <td>2020-01-02 19:46:19</td>\n",
       "      <td>1</td>\n",
       "      <td>1</td>\n",
       "      <td>0</td>\n",
       "      <td>Google - Organic</td>\n",
       "      <td>Non Paid</td>\n",
       "    </tr>\n",
       "    <tr>\n",
       "      <th>1</th>\n",
       "      <td>48084</td>\n",
       "      <td>12</td>\n",
       "      <td>Ireland</td>\n",
       "      <td>2020-01-04 20:43:21</td>\n",
       "      <td>[NULL]</td>\n",
       "      <td>0</td>\n",
       "      <td>0</td>\n",
       "      <td>Google - Organic</td>\n",
       "      <td>Non Paid</td>\n",
       "    </tr>\n",
       "    <tr>\n",
       "      <th>2</th>\n",
       "      <td>48103</td>\n",
       "      <td>1</td>\n",
       "      <td>United States</td>\n",
       "      <td>2020-01-05 20:31:45</td>\n",
       "      <td>1</td>\n",
       "      <td>1</td>\n",
       "      <td>0</td>\n",
       "      <td>Google - Organic</td>\n",
       "      <td>Non Paid</td>\n",
       "    </tr>\n",
       "    <tr>\n",
       "      <th>3</th>\n",
       "      <td>48122</td>\n",
       "      <td>1</td>\n",
       "      <td>France</td>\n",
       "      <td>2020-01-06 15:12:56</td>\n",
       "      <td>[NULL]</td>\n",
       "      <td>0</td>\n",
       "      <td>0</td>\n",
       "      <td>Unknown</td>\n",
       "      <td>Paid</td>\n",
       "    </tr>\n",
       "    <tr>\n",
       "      <th>4</th>\n",
       "      <td>48130</td>\n",
       "      <td>1</td>\n",
       "      <td>United States</td>\n",
       "      <td>2020-01-06 19:51:13</td>\n",
       "      <td>[NULL]</td>\n",
       "      <td>0</td>\n",
       "      <td>0</td>\n",
       "      <td>Google - Organic</td>\n",
       "      <td>Non Paid</td>\n",
       "    </tr>\n",
       "  </tbody>\n",
       "</table>\n",
       "</div>"
      ],
      "text/plain": [
       "   client_id  product_id        country trial_start_datetime channels  setup  \\\n",
       "0      48043           1          Spain  2020-01-02 19:46:19        1      1   \n",
       "1      48084          12        Ireland  2020-01-04 20:43:21   [NULL]      0   \n",
       "2      48103           1  United States  2020-01-05 20:31:45        1      1   \n",
       "3      48122           1         France  2020-01-06 15:12:56   [NULL]      0   \n",
       "4      48130           1  United States  2020-01-06 19:51:13   [NULL]      0   \n",
       "\n",
       "   sale      click_source source_paid_or_non_paid  \n",
       "0     0  Google - Organic                Non Paid  \n",
       "1     0  Google - Organic                Non Paid  \n",
       "2     0  Google - Organic                Non Paid  \n",
       "3     0           Unknown                    Paid  \n",
       "4     0  Google - Organic                Non Paid  "
      ]
     },
     "execution_count": 179,
     "metadata": {},
     "output_type": "execute_result"
    }
   ],
   "source": [
    "# Read ethe trial data (Excel) into a dataframe\n",
    "df=pd.read_excel(\"Trial data.xlsx\")\n",
    "\n",
    "# Print the head of the dataframe\n",
    "df.head()"
   ]
  },
  {
   "cell_type": "code",
   "execution_count": 170,
   "metadata": {},
   "outputs": [
    {
     "name": "stdout",
     "output_type": "stream",
     "text": [
      "<class 'pandas.core.frame.DataFrame'>\n",
      "RangeIndex: 15713 entries, 0 to 15712\n",
      "Data columns (total 9 columns):\n",
      " #   Column                   Non-Null Count  Dtype         \n",
      "---  ------                   --------------  -----         \n",
      " 0   client_id                15713 non-null  int64         \n",
      " 1   product_id               15713 non-null  int64         \n",
      " 2   country                  15713 non-null  object        \n",
      " 3   trial_start_datetime     15713 non-null  datetime64[ns]\n",
      " 4   channels                 15713 non-null  object        \n",
      " 5   setup                    15713 non-null  int64         \n",
      " 6   sale                     15713 non-null  int64         \n",
      " 7   click_source             15713 non-null  object        \n",
      " 8   source_paid_or_non_paid  15713 non-null  object        \n",
      "dtypes: datetime64[ns](1), int64(4), object(4)\n",
      "memory usage: 1.1+ MB\n"
     ]
    }
   ],
   "source": [
    "#Print the information about the dataframe including the index dtype and columns, non-null values\n",
    "\n",
    "df.info()"
   ]
  },
  {
   "cell_type": "code",
   "execution_count": 180,
   "metadata": {},
   "outputs": [
    {
     "data": {
      "text/plain": [
       "array([1, '[NULL]', 2, 13, 8, 5, 9, 14, 6, 3, 4, 10, 20, 22, 7, 21, 32,\n",
       "       16, 12, 18, 11, 0, 23, 30, 352, 47, 24, 19, 31, 17, 27, 15, 25,\n",
       "       1334, 26, 51, 72, 39, 75, 46, 41, 40, 56, 28, 35, 153, 59, 29, 53,\n",
       "       34], dtype=object)"
      ]
     },
     "execution_count": 180,
     "metadata": {},
     "output_type": "execute_result"
    }
   ],
   "source": [
    "# Check the unique values in channels before replacing the nulls\n",
    "\n",
    "df.channels.unique()"
   ]
  },
  {
   "cell_type": "code",
   "execution_count": 181,
   "metadata": {},
   "outputs": [],
   "source": [
    "# Replace the nulls in the \"Channels\" column with 0. In the data, nulls are appearing as as string \"[NULL]\". \n",
    "# Hence use replace function instead of fillna()\n",
    "\n",
    "\n",
    "df[\"channels\"].replace(\"[NULL]\", 0,inplace=True)"
   ]
  },
  {
   "cell_type": "code",
   "execution_count": 182,
   "metadata": {},
   "outputs": [
    {
     "data": {
      "text/plain": [
       "array([   1,    0,    2,   13,    8,    5,    9,   14,    6,    3,    4,\n",
       "         10,   20,   22,    7,   21,   32,   16,   12,   18,   11,   23,\n",
       "         30,  352,   47,   24,   19,   31,   17,   27,   15,   25, 1334,\n",
       "         26,   51,   72,   39,   75,   46,   41,   40,   56,   28,   35,\n",
       "        153,   59,   29,   53,   34], dtype=int64)"
      ]
     },
     "execution_count": 182,
     "metadata": {},
     "output_type": "execute_result"
    }
   ],
   "source": [
    "# Check the unique values in channels following the change \n",
    "\n",
    "df.channels.unique()"
   ]
  },
  {
   "cell_type": "code",
   "execution_count": 183,
   "metadata": {},
   "outputs": [
    {
     "data": {
      "text/plain": [
       "client_id                           int64\n",
       "product_id                          int64\n",
       "country                            object\n",
       "trial_start_datetime       datetime64[ns]\n",
       "channels                            int64\n",
       "setup                               int64\n",
       "sale                                int64\n",
       "click_source                       object\n",
       "source_paid_or_non_paid            object\n",
       "dtype: object"
      ]
     },
     "execution_count": 183,
     "metadata": {},
     "output_type": "execute_result"
    }
   ],
   "source": [
    "# Check the change in the datatype of channels column following the replacement of nulls\n",
    "df.dtypes"
   ]
  },
  {
   "cell_type": "code",
   "execution_count": 184,
   "metadata": {},
   "outputs": [],
   "source": [
    "#Create a column \"active_trial\" and categrorize as \"active\" if a client has atleast 1 channel and \"inactive\" \"if not\n",
    "\n",
    "df['active_trial'] = 'Active'\n",
    "df.loc[df['channels'] < 1, 'active_trial'] = 'Inactive'"
   ]
  },
  {
   "cell_type": "code",
   "execution_count": 185,
   "metadata": {},
   "outputs": [
    {
     "data": {
      "text/html": [
       "<div>\n",
       "<style scoped>\n",
       "    .dataframe tbody tr th:only-of-type {\n",
       "        vertical-align: middle;\n",
       "    }\n",
       "\n",
       "    .dataframe tbody tr th {\n",
       "        vertical-align: top;\n",
       "    }\n",
       "\n",
       "    .dataframe thead th {\n",
       "        text-align: right;\n",
       "    }\n",
       "</style>\n",
       "<table border=\"1\" class=\"dataframe\">\n",
       "  <thead>\n",
       "    <tr style=\"text-align: right;\">\n",
       "      <th></th>\n",
       "      <th>client_id</th>\n",
       "      <th>product_id</th>\n",
       "      <th>country</th>\n",
       "      <th>trial_start_datetime</th>\n",
       "      <th>channels</th>\n",
       "      <th>setup</th>\n",
       "      <th>sale</th>\n",
       "      <th>click_source</th>\n",
       "      <th>source_paid_or_non_paid</th>\n",
       "      <th>active_trial</th>\n",
       "    </tr>\n",
       "  </thead>\n",
       "  <tbody>\n",
       "    <tr>\n",
       "      <th>0</th>\n",
       "      <td>48043</td>\n",
       "      <td>1</td>\n",
       "      <td>Spain</td>\n",
       "      <td>2020-01-02 19:46:19</td>\n",
       "      <td>1</td>\n",
       "      <td>1</td>\n",
       "      <td>0</td>\n",
       "      <td>Google - Organic</td>\n",
       "      <td>Non Paid</td>\n",
       "      <td>Active</td>\n",
       "    </tr>\n",
       "    <tr>\n",
       "      <th>1</th>\n",
       "      <td>48084</td>\n",
       "      <td>12</td>\n",
       "      <td>Ireland</td>\n",
       "      <td>2020-01-04 20:43:21</td>\n",
       "      <td>0</td>\n",
       "      <td>0</td>\n",
       "      <td>0</td>\n",
       "      <td>Google - Organic</td>\n",
       "      <td>Non Paid</td>\n",
       "      <td>Inactive</td>\n",
       "    </tr>\n",
       "    <tr>\n",
       "      <th>2</th>\n",
       "      <td>48103</td>\n",
       "      <td>1</td>\n",
       "      <td>United States</td>\n",
       "      <td>2020-01-05 20:31:45</td>\n",
       "      <td>1</td>\n",
       "      <td>1</td>\n",
       "      <td>0</td>\n",
       "      <td>Google - Organic</td>\n",
       "      <td>Non Paid</td>\n",
       "      <td>Active</td>\n",
       "    </tr>\n",
       "    <tr>\n",
       "      <th>3</th>\n",
       "      <td>48122</td>\n",
       "      <td>1</td>\n",
       "      <td>France</td>\n",
       "      <td>2020-01-06 15:12:56</td>\n",
       "      <td>0</td>\n",
       "      <td>0</td>\n",
       "      <td>0</td>\n",
       "      <td>Unknown</td>\n",
       "      <td>Paid</td>\n",
       "      <td>Inactive</td>\n",
       "    </tr>\n",
       "    <tr>\n",
       "      <th>4</th>\n",
       "      <td>48130</td>\n",
       "      <td>1</td>\n",
       "      <td>United States</td>\n",
       "      <td>2020-01-06 19:51:13</td>\n",
       "      <td>0</td>\n",
       "      <td>0</td>\n",
       "      <td>0</td>\n",
       "      <td>Google - Organic</td>\n",
       "      <td>Non Paid</td>\n",
       "      <td>Inactive</td>\n",
       "    </tr>\n",
       "  </tbody>\n",
       "</table>\n",
       "</div>"
      ],
      "text/plain": [
       "   client_id  product_id        country trial_start_datetime  channels  setup  \\\n",
       "0      48043           1          Spain  2020-01-02 19:46:19         1      1   \n",
       "1      48084          12        Ireland  2020-01-04 20:43:21         0      0   \n",
       "2      48103           1  United States  2020-01-05 20:31:45         1      1   \n",
       "3      48122           1         France  2020-01-06 15:12:56         0      0   \n",
       "4      48130           1  United States  2020-01-06 19:51:13         0      0   \n",
       "\n",
       "   sale      click_source source_paid_or_non_paid active_trial  \n",
       "0     0  Google - Organic                Non Paid       Active  \n",
       "1     0  Google - Organic                Non Paid     Inactive  \n",
       "2     0  Google - Organic                Non Paid       Active  \n",
       "3     0           Unknown                    Paid     Inactive  \n",
       "4     0  Google - Organic                Non Paid     Inactive  "
      ]
     },
     "execution_count": 185,
     "metadata": {},
     "output_type": "execute_result"
    }
   ],
   "source": [
    "# Preview the change by printing the head()\n",
    "df.head()"
   ]
  },
  {
   "cell_type": "code",
   "execution_count": 186,
   "metadata": {},
   "outputs": [],
   "source": [
    "# Create a column \"Region\" which categorises the countries into diffrent regions\n",
    "\n",
    "# Define the categories in a dictionary\n",
    "region_dict = {\n",
    "   'United States':'North America',\n",
    "    'Canada':'North America',\n",
    "    'Mexico':'North America',\n",
    "    'Ireland':'UK/Ireland',\n",
    "    'United Kingdom':'UK/Ireland',\n",
    "    'France' :'EU Main',\n",
    "    'Germany' :'EU Main',\n",
    "    'Italy' :'EU Main',\n",
    "    'Spain' :'EU Main',   \n",
    "}\n",
    "    \n",
    "    \n",
    " # Create a column \"Region\" by mapping the dictionary  and filling the NaN with \"ROW\"   \n",
    "df['Region'] = df['country'].map(region_dict).fillna('ROW')"
   ]
  },
  {
   "cell_type": "code",
   "execution_count": 187,
   "metadata": {},
   "outputs": [
    {
     "data": {
      "text/html": [
       "<div>\n",
       "<style scoped>\n",
       "    .dataframe tbody tr th:only-of-type {\n",
       "        vertical-align: middle;\n",
       "    }\n",
       "\n",
       "    .dataframe tbody tr th {\n",
       "        vertical-align: top;\n",
       "    }\n",
       "\n",
       "    .dataframe thead th {\n",
       "        text-align: right;\n",
       "    }\n",
       "</style>\n",
       "<table border=\"1\" class=\"dataframe\">\n",
       "  <thead>\n",
       "    <tr style=\"text-align: right;\">\n",
       "      <th></th>\n",
       "      <th>client_id</th>\n",
       "      <th>product_id</th>\n",
       "      <th>country</th>\n",
       "      <th>trial_start_datetime</th>\n",
       "      <th>channels</th>\n",
       "      <th>setup</th>\n",
       "      <th>sale</th>\n",
       "      <th>click_source</th>\n",
       "      <th>source_paid_or_non_paid</th>\n",
       "      <th>active_trial</th>\n",
       "      <th>Region</th>\n",
       "    </tr>\n",
       "  </thead>\n",
       "  <tbody>\n",
       "    <tr>\n",
       "      <th>0</th>\n",
       "      <td>48043</td>\n",
       "      <td>1</td>\n",
       "      <td>Spain</td>\n",
       "      <td>2020-01-02 19:46:19</td>\n",
       "      <td>1</td>\n",
       "      <td>1</td>\n",
       "      <td>0</td>\n",
       "      <td>Google - Organic</td>\n",
       "      <td>Non Paid</td>\n",
       "      <td>Active</td>\n",
       "      <td>EU Main</td>\n",
       "    </tr>\n",
       "    <tr>\n",
       "      <th>1</th>\n",
       "      <td>48084</td>\n",
       "      <td>12</td>\n",
       "      <td>Ireland</td>\n",
       "      <td>2020-01-04 20:43:21</td>\n",
       "      <td>0</td>\n",
       "      <td>0</td>\n",
       "      <td>0</td>\n",
       "      <td>Google - Organic</td>\n",
       "      <td>Non Paid</td>\n",
       "      <td>Inactive</td>\n",
       "      <td>UK/Ireland</td>\n",
       "    </tr>\n",
       "    <tr>\n",
       "      <th>2</th>\n",
       "      <td>48103</td>\n",
       "      <td>1</td>\n",
       "      <td>United States</td>\n",
       "      <td>2020-01-05 20:31:45</td>\n",
       "      <td>1</td>\n",
       "      <td>1</td>\n",
       "      <td>0</td>\n",
       "      <td>Google - Organic</td>\n",
       "      <td>Non Paid</td>\n",
       "      <td>Active</td>\n",
       "      <td>North America</td>\n",
       "    </tr>\n",
       "    <tr>\n",
       "      <th>3</th>\n",
       "      <td>48122</td>\n",
       "      <td>1</td>\n",
       "      <td>France</td>\n",
       "      <td>2020-01-06 15:12:56</td>\n",
       "      <td>0</td>\n",
       "      <td>0</td>\n",
       "      <td>0</td>\n",
       "      <td>Unknown</td>\n",
       "      <td>Paid</td>\n",
       "      <td>Inactive</td>\n",
       "      <td>EU Main</td>\n",
       "    </tr>\n",
       "    <tr>\n",
       "      <th>4</th>\n",
       "      <td>48130</td>\n",
       "      <td>1</td>\n",
       "      <td>United States</td>\n",
       "      <td>2020-01-06 19:51:13</td>\n",
       "      <td>0</td>\n",
       "      <td>0</td>\n",
       "      <td>0</td>\n",
       "      <td>Google - Organic</td>\n",
       "      <td>Non Paid</td>\n",
       "      <td>Inactive</td>\n",
       "      <td>North America</td>\n",
       "    </tr>\n",
       "  </tbody>\n",
       "</table>\n",
       "</div>"
      ],
      "text/plain": [
       "   client_id  product_id        country trial_start_datetime  channels  setup  \\\n",
       "0      48043           1          Spain  2020-01-02 19:46:19         1      1   \n",
       "1      48084          12        Ireland  2020-01-04 20:43:21         0      0   \n",
       "2      48103           1  United States  2020-01-05 20:31:45         1      1   \n",
       "3      48122           1         France  2020-01-06 15:12:56         0      0   \n",
       "4      48130           1  United States  2020-01-06 19:51:13         0      0   \n",
       "\n",
       "   sale      click_source source_paid_or_non_paid active_trial         Region  \n",
       "0     0  Google - Organic                Non Paid       Active        EU Main  \n",
       "1     0  Google - Organic                Non Paid     Inactive     UK/Ireland  \n",
       "2     0  Google - Organic                Non Paid       Active  North America  \n",
       "3     0           Unknown                    Paid     Inactive        EU Main  \n",
       "4     0  Google - Organic                Non Paid     Inactive  North America  "
      ]
     },
     "execution_count": 187,
     "metadata": {},
     "output_type": "execute_result"
    }
   ],
   "source": [
    "# Preview the change by printing the head()\n",
    "df.head()"
   ]
  },
  {
   "cell_type": "code",
   "execution_count": null,
   "metadata": {},
   "outputs": [],
   "source": [
    "# Export the results to an Excel\n",
    "df.to_excel(\"trial_data_python_output.xlsx\",index=False)"
   ]
  }
 ],
 "metadata": {
  "kernelspec": {
   "display_name": "Python 3",
   "language": "python",
   "name": "python3"
  },
  "language_info": {
   "codemirror_mode": {
    "name": "ipython",
    "version": 3
   },
   "file_extension": ".py",
   "mimetype": "text/x-python",
   "name": "python",
   "nbconvert_exporter": "python",
   "pygments_lexer": "ipython3",
   "version": "3.8.3"
  }
 },
 "nbformat": 4,
 "nbformat_minor": 4
}
